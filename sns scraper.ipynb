{
 "cells": [
  {
   "cell_type": "code",
   "execution_count": 3,
   "metadata": {},
   "outputs": [
    {
     "name": "stdout",
     "output_type": "stream",
     "text": [
      "Collecting progressbar\n",
      "  Downloading progressbar-2.5.tar.gz (10 kB)\n",
      "Building wheels for collected packages: progressbar\n",
      "  Building wheel for progressbar (setup.py): started\n",
      "  Building wheel for progressbar (setup.py): finished with status 'done'\n",
      "  Created wheel for progressbar: filename=progressbar-2.5-py3-none-any.whl size=12078 sha256=2a212f8bc291b6cfbac9af81c26809020f52017052d86c2a4ca03b54f00a22c8\n",
      "  Stored in directory: c:\\users\\ihtisham ahmad\\appdata\\local\\pip\\cache\\wheels\\2c\\67\\ed\\d84123843c937d7e7f5ba88a270d11036473144143355e2747\n",
      "Successfully built progressbar\n",
      "Installing collected packages: progressbar\n",
      "Successfully installed progressbar-2.5\n"
     ]
    }
   ],
   "source": [
    "!pip install progressbar"
   ]
  },
  {
   "cell_type": "code",
   "execution_count": 59,
   "metadata": {},
   "outputs": [],
   "source": [
    "import snscrape.modules.twitter as sntwitter\n",
    "import pandas as pd\n",
    "import progressbar\n",
    "from time import sleep\n",
    "from datetime import datetime\n",
    "import os\n",
    "coins_dict = {'Ethereum': ['#ethereum $eth since:2021-01-01 until:2022-05-25', 2000000]}\n",
    "# coins_dict = {'Near': ['#Near $Near since:2021-01-01 until:2022-05-25', 100000],\n",
    "#              'Ethereum': ['#ethereum $eth since:2021-01-01 until:2022-05-25', 100000],\n",
    "#              'RNDR': ['#rndr $rndr since:2021-01-01 until:2022-05-25', 100000],\n",
    "#              'GMT': ['#gmt $gmt since:2021-01-01 until:2022-05-25', 100000]}"
   ]
  },
  {
   "cell_type": "code",
   "execution_count": 60,
   "metadata": {},
   "outputs": [
    {
     "name": "stderr",
     "output_type": "stream",
     "text": [
      "[                                                                        ]   0%\r"
     ]
    },
    {
     "name": "stdout",
     "output_type": "stream",
     "text": [
      "Ethereum %\n"
     ]
    },
    {
     "name": "stderr",
     "output_type": "stream",
     "text": [
      "[========================================================================] 100%\n"
     ]
    }
   ],
   "source": [
    "today = datetime.today().strftime('%Y%m%d')[2:]+'_'\n",
    "for index, coin_name in enumerate(coins_dict):\n",
    "    print(coin_name, '%')\n",
    "    tweets_list1 = []\n",
    "    bar = progressbar.ProgressBar(maxval=coins_dict[coin_name][1]+2, widgets=[progressbar.Bar('=', '[', ']'), ' ', progressbar.Percentage()])\n",
    "    bar.start()\n",
    "    for i,tweet in enumerate(sntwitter.TwitterSearchScraper(f'{coins_dict[coin_name][0]}').get_items()): #declare a username\n",
    "        bar.update(i+1)\n",
    "        if i>coins_dict[coin_name][1]: #number of tweets you want to scrape\n",
    "            break\n",
    "        #print(coin_name, i, tweet)\n",
    "        tweets_list1.append([tweet.date, tweet.id, tweet.content, tweet.user.username]) #declare the attributes to be returned\n",
    "    tweets_df1 = pd.DataFrame(tweets_list1, columns=['Datetime', 'Tweet Id', 'Text', 'Username'])\n",
    "\n",
    "    tweets_df1[['Datetime', 'Text']].to_csv(f'{coin_name}.csv')\n",
    "    bar.finish()"
   ]
  },
  {
   "cell_type": "code",
   "execution_count": 61,
   "metadata": {},
   "outputs": [],
   "source": [
    "tweets = pd.read_csv('ethereum.csv')"
   ]
  },
  {
   "cell_type": "code",
   "execution_count": 54,
   "metadata": {},
   "outputs": [
    {
     "data": {
      "text/html": [
       "<div>\n",
       "<style scoped>\n",
       "    .dataframe tbody tr th:only-of-type {\n",
       "        vertical-align: middle;\n",
       "    }\n",
       "\n",
       "    .dataframe tbody tr th {\n",
       "        vertical-align: top;\n",
       "    }\n",
       "\n",
       "    .dataframe thead th {\n",
       "        text-align: right;\n",
       "    }\n",
       "</style>\n",
       "<table border=\"1\" class=\"dataframe\">\n",
       "  <thead>\n",
       "    <tr style=\"text-align: right;\">\n",
       "      <th></th>\n",
       "      <th>Unnamed: 0</th>\n",
       "      <th>Datetime</th>\n",
       "      <th>Text</th>\n",
       "    </tr>\n",
       "  </thead>\n",
       "  <tbody>\n",
       "    <tr>\n",
       "      <th>0</th>\n",
       "      <td>0</td>\n",
       "      <td>2022-05-24 23:59:23+00:00</td>\n",
       "      <td>The $ETH price is at $1,979.03 right now.\\n🟢 C...</td>\n",
       "    </tr>\n",
       "    <tr>\n",
       "      <th>1</th>\n",
       "      <td>1</td>\n",
       "      <td>2022-05-24 23:44:23+00:00</td>\n",
       "      <td>The $ETH price is at $1,977.47 right now.\\n🔴 C...</td>\n",
       "    </tr>\n",
       "    <tr>\n",
       "      <th>2</th>\n",
       "      <td>2</td>\n",
       "      <td>2022-05-24 23:33:28+00:00</td>\n",
       "      <td>Sold! CryptoPunk #3042 was purchased for Ξ45.5...</td>\n",
       "    </tr>\n",
       "    <tr>\n",
       "      <th>3</th>\n",
       "      <td>3</td>\n",
       "      <td>2022-05-24 23:31:46+00:00</td>\n",
       "      <td>WAKE ME UP WHEN THE NEXT BULL RUN STARTS #cryp...</td>\n",
       "    </tr>\n",
       "    <tr>\n",
       "      <th>4</th>\n",
       "      <td>4</td>\n",
       "      <td>2022-05-24 23:30:18+00:00</td>\n",
       "      <td>Best tip to survive the crypto bear market? Ta...</td>\n",
       "    </tr>\n",
       "    <tr>\n",
       "      <th>...</th>\n",
       "      <td>...</td>\n",
       "      <td>...</td>\n",
       "      <td>...</td>\n",
       "    </tr>\n",
       "    <tr>\n",
       "      <th>99996</th>\n",
       "      <td>99996</td>\n",
       "      <td>2021-12-02 23:07:08+00:00</td>\n",
       "      <td>The $ETH price is at $4,543.04 right now.\\n🟢 C...</td>\n",
       "    </tr>\n",
       "    <tr>\n",
       "      <th>99997</th>\n",
       "      <td>99997</td>\n",
       "      <td>2021-12-02 23:05:00+00:00</td>\n",
       "      <td>Join the Crypto Records Club, the NFT collecti...</td>\n",
       "    </tr>\n",
       "    <tr>\n",
       "      <th>99998</th>\n",
       "      <td>99998</td>\n",
       "      <td>2021-12-02 23:03:12+00:00</td>\n",
       "      <td>https://t.co/GjuDn9OcCe Follows Coinbase and F...</td>\n",
       "    </tr>\n",
       "    <tr>\n",
       "      <th>99999</th>\n",
       "      <td>99999</td>\n",
       "      <td>2021-12-02 22:55:53+00:00</td>\n",
       "      <td>$BTC $ETH $ADA $DOT $USDT $BNB $SHIB $DOGE #Bi...</td>\n",
       "    </tr>\n",
       "    <tr>\n",
       "      <th>100000</th>\n",
       "      <td>100000</td>\n",
       "      <td>2021-12-02 22:52:11+00:00</td>\n",
       "      <td>soooo all in #Ethereum ? $BTC $ETH https://t.c...</td>\n",
       "    </tr>\n",
       "  </tbody>\n",
       "</table>\n",
       "<p>100001 rows × 3 columns</p>\n",
       "</div>"
      ],
      "text/plain": [
       "        Unnamed: 0                   Datetime  \\\n",
       "0                0  2022-05-24 23:59:23+00:00   \n",
       "1                1  2022-05-24 23:44:23+00:00   \n",
       "2                2  2022-05-24 23:33:28+00:00   \n",
       "3                3  2022-05-24 23:31:46+00:00   \n",
       "4                4  2022-05-24 23:30:18+00:00   \n",
       "...            ...                        ...   \n",
       "99996        99996  2021-12-02 23:07:08+00:00   \n",
       "99997        99997  2021-12-02 23:05:00+00:00   \n",
       "99998        99998  2021-12-02 23:03:12+00:00   \n",
       "99999        99999  2021-12-02 22:55:53+00:00   \n",
       "100000      100000  2021-12-02 22:52:11+00:00   \n",
       "\n",
       "                                                     Text  \n",
       "0       The $ETH price is at $1,979.03 right now.\\n🟢 C...  \n",
       "1       The $ETH price is at $1,977.47 right now.\\n🔴 C...  \n",
       "2       Sold! CryptoPunk #3042 was purchased for Ξ45.5...  \n",
       "3       WAKE ME UP WHEN THE NEXT BULL RUN STARTS #cryp...  \n",
       "4       Best tip to survive the crypto bear market? Ta...  \n",
       "...                                                   ...  \n",
       "99996   The $ETH price is at $4,543.04 right now.\\n🟢 C...  \n",
       "99997   Join the Crypto Records Club, the NFT collecti...  \n",
       "99998   https://t.co/GjuDn9OcCe Follows Coinbase and F...  \n",
       "99999   $BTC $ETH $ADA $DOT $USDT $BNB $SHIB $DOGE #Bi...  \n",
       "100000  soooo all in #Ethereum ? $BTC $ETH https://t.c...  \n",
       "\n",
       "[100001 rows x 3 columns]"
      ]
     },
     "execution_count": 54,
     "metadata": {},
     "output_type": "execute_result"
    }
   ],
   "source": [
    "tweets"
   ]
  },
  {
   "cell_type": "code",
   "execution_count": null,
   "metadata": {},
   "outputs": [],
   "source": []
  }
 ],
 "metadata": {
  "kernelspec": {
   "display_name": "Python 3",
   "language": "python",
   "name": "python3"
  }
 },
 "nbformat": 4,
 "nbformat_minor": 4
}
